{
 "cells": [
  {
   "cell_type": "code",
   "execution_count": 3,
   "metadata": {},
   "outputs": [],
   "source": [
    "import numpy as np\n",
    "import pandas as pd"
   ]
  },
  {
   "cell_type": "code",
   "execution_count": 2,
   "metadata": {},
   "outputs": [],
   "source": [
    "DATA_DIR = './data/'"
   ]
  },
  {
   "cell_type": "code",
   "execution_count": 129,
   "metadata": {},
   "outputs": [],
   "source": [
    "def hamming_distance(v_1, v_2):\n",
    "    return np.sum(np.array(v_1) != np.array(v_2))\n",
    "\n",
    "def hamming_matrix(vs):\n",
    "    n = len(vs)\n",
    "    m = np.zeros((n, n))\n",
    "    for i in range(n):\n",
    "        for j in range(i, n):\n",
    "            m[i, j] = hamming_distance(vs[i], vs[j])\n",
    "            m[j, i] = m[i, j]\n",
    "    return m"
   ]
  },
  {
   "cell_type": "code",
   "execution_count": 10,
   "metadata": {},
   "outputs": [],
   "source": [
    "def cluster_data(\n",
    "        num_cats,\n",
    "        cat_dims,\n",
    "        num_centroids,\n",
    "        centroid_multiplicity_min,\n",
    "        centroid_multiplicity_max,\n",
    "):\n",
    "    clusters = []\n",
    "    centroids = []\n",
    "    for _ in range(num_centroids):\n",
    "        centroid = []\n",
    "        for cat_idx in range(num_cats):\n",
    "            centroid.append(np.random.randint(low=0,  high=cat_dims[cat_idx]))\n",
    "        centroids.append(centroid)\n",
    "        centroid_multiplicity = np.random.randint(centroid_multiplicity_min, centroid_multiplicity_max)\n",
    "        cluster = []\n",
    "        for _ in range(centroid_multiplicity):\n",
    "            cluster.append(centroid)\n",
    "        clusters.append(cluster)\n",
    "    return centroids, clusters\n",
    "\n",
    "def fanout_cluster_data(\n",
    "        centroids,\n",
    "        clusters,\n",
    "        num_cats,\n",
    "        cats_dims,\n",
    "        num_fanouts_max,\n",
    "        radius\n",
    "):  \n",
    "    fanout_clusters = clusters.copy()\n",
    "    for cluster_idx, (centroid, cluster) in enumerate(zip(centroids, clusters)):\n",
    "        num_fanouts = np.random.randint(low=1, high=num_fanouts_max)\n",
    "        for _ in range(num_fanouts):\n",
    "            fanout = centroid.copy()\n",
    "            hamming_distance = np.random.randint(low=1, high=radius)\n",
    "            change_indices = np.random.choice(num_cats, hamming_distance, replace=False)\n",
    "            for cat_idx in change_indices:\n",
    "                fanout[cat_idx] = np.random.randint(low=0, high=cats_dims[cat_idx])\n",
    "            fanout_clusters[cluster_idx].append(fanout)\n",
    "    return fanout_clusters\n",
    "           \n"
   ]
  },
  {
   "cell_type": "code",
   "execution_count": 110,
   "metadata": {},
   "outputs": [],
   "source": [
    "num_cats = 10\n",
    "cat_dims = np.random.randint(10, 1000, num_cats)\n",
    "num_centroids = 100\n",
    "centroid_multiplicity_min = 5\n",
    "centroid_multiplicity_max = 15\n",
    "\n",
    "num_fanouts_max = 500\n",
    "radius = 3"
   ]
  },
  {
   "cell_type": "code",
   "execution_count": 111,
   "metadata": {},
   "outputs": [],
   "source": [
    "centroids, clusters = cluster_data(\n",
    "        num_cats,\n",
    "        cat_dims,\n",
    "        num_centroids,\n",
    "        centroid_multiplicity_min,\n",
    "        centroid_multiplicity_max,\n",
    ")"
   ]
  },
  {
   "cell_type": "code",
   "execution_count": 112,
   "metadata": {},
   "outputs": [],
   "source": [
    "fanout_clusters = fanout_cluster_data(\n",
    "        centroids,\n",
    "        clusters,\n",
    "        num_cats,\n",
    "        cat_dims,\n",
    "        num_fanouts_max,\n",
    "        radius\n",
    ")"
   ]
  },
  {
   "cell_type": "code",
   "execution_count": 113,
   "metadata": {},
   "outputs": [],
   "source": [
    "labelled_data = [fanout + [fanout_cluster_idx] for (fanout_cluster_idx, fanout_cluster) in enumerate(fanout_clusters) for fanout in fanout_cluster]"
   ]
  },
  {
   "cell_type": "code",
   "execution_count": 114,
   "metadata": {},
   "outputs": [],
   "source": [
    "columns = [f'cat_{i}' for i in range(num_cats)] + ['cluster_idx']\n",
    "df = pd.DataFrame(labelled_data, columns=columns)\n",
    "df = df.sample(frac=1)\n",
    "df.to_csv(DATA_DIR + 'fanout_data.csv', index=False)"
   ]
  },
  {
   "cell_type": "code",
   "execution_count": 115,
   "metadata": {},
   "outputs": [
    {
     "data": {
      "text/html": [
       "<div>\n",
       "<style scoped>\n",
       "    .dataframe tbody tr th:only-of-type {\n",
       "        vertical-align: middle;\n",
       "    }\n",
       "\n",
       "    .dataframe tbody tr th {\n",
       "        vertical-align: top;\n",
       "    }\n",
       "\n",
       "    .dataframe thead th {\n",
       "        text-align: right;\n",
       "    }\n",
       "</style>\n",
       "<table border=\"1\" class=\"dataframe\">\n",
       "  <thead>\n",
       "    <tr style=\"text-align: right;\">\n",
       "      <th></th>\n",
       "      <th>cat_0</th>\n",
       "      <th>cat_1</th>\n",
       "      <th>cat_2</th>\n",
       "      <th>cat_3</th>\n",
       "      <th>cat_4</th>\n",
       "      <th>cat_5</th>\n",
       "      <th>cat_6</th>\n",
       "      <th>cat_7</th>\n",
       "      <th>cat_8</th>\n",
       "      <th>cat_9</th>\n",
       "      <th>cluster_idx</th>\n",
       "    </tr>\n",
       "  </thead>\n",
       "  <tbody>\n",
       "    <tr>\n",
       "      <th>14945</th>\n",
       "      <td>155</td>\n",
       "      <td>482</td>\n",
       "      <td>541</td>\n",
       "      <td>24</td>\n",
       "      <td>462</td>\n",
       "      <td>46</td>\n",
       "      <td>239</td>\n",
       "      <td>143</td>\n",
       "      <td>250</td>\n",
       "      <td>312</td>\n",
       "      <td>55</td>\n",
       "    </tr>\n",
       "    <tr>\n",
       "      <th>26381</th>\n",
       "      <td>328</td>\n",
       "      <td>469</td>\n",
       "      <td>80</td>\n",
       "      <td>189</td>\n",
       "      <td>171</td>\n",
       "      <td>34</td>\n",
       "      <td>283</td>\n",
       "      <td>533</td>\n",
       "      <td>81</td>\n",
       "      <td>377</td>\n",
       "      <td>98</td>\n",
       "    </tr>\n",
       "    <tr>\n",
       "      <th>7942</th>\n",
       "      <td>75</td>\n",
       "      <td>753</td>\n",
       "      <td>272</td>\n",
       "      <td>7</td>\n",
       "      <td>396</td>\n",
       "      <td>24</td>\n",
       "      <td>258</td>\n",
       "      <td>393</td>\n",
       "      <td>137</td>\n",
       "      <td>47</td>\n",
       "      <td>28</td>\n",
       "    </tr>\n",
       "    <tr>\n",
       "      <th>15428</th>\n",
       "      <td>287</td>\n",
       "      <td>330</td>\n",
       "      <td>306</td>\n",
       "      <td>239</td>\n",
       "      <td>324</td>\n",
       "      <td>67</td>\n",
       "      <td>148</td>\n",
       "      <td>582</td>\n",
       "      <td>253</td>\n",
       "      <td>151</td>\n",
       "      <td>57</td>\n",
       "    </tr>\n",
       "    <tr>\n",
       "      <th>26460</th>\n",
       "      <td>328</td>\n",
       "      <td>469</td>\n",
       "      <td>80</td>\n",
       "      <td>189</td>\n",
       "      <td>394</td>\n",
       "      <td>34</td>\n",
       "      <td>283</td>\n",
       "      <td>328</td>\n",
       "      <td>81</td>\n",
       "      <td>5</td>\n",
       "      <td>98</td>\n",
       "    </tr>\n",
       "  </tbody>\n",
       "</table>\n",
       "</div>"
      ],
      "text/plain": [
       "       cat_0  cat_1  cat_2  cat_3  cat_4  cat_5  cat_6  cat_7  cat_8  cat_9  \\\n",
       "14945    155    482    541     24    462     46    239    143    250    312   \n",
       "26381    328    469     80    189    171     34    283    533     81    377   \n",
       "7942      75    753    272      7    396     24    258    393    137     47   \n",
       "15428    287    330    306    239    324     67    148    582    253    151   \n",
       "26460    328    469     80    189    394     34    283    328     81      5   \n",
       "\n",
       "       cluster_idx  \n",
       "14945           55  \n",
       "26381           98  \n",
       "7942            28  \n",
       "15428           57  \n",
       "26460           98  "
      ]
     },
     "execution_count": 115,
     "metadata": {},
     "output_type": "execute_result"
    }
   ],
   "source": [
    "df.head()"
   ]
  },
  {
   "cell_type": "code",
   "execution_count": 116,
   "metadata": {},
   "outputs": [
    {
     "data": {
      "text/plain": [
       "(27143, 11)"
      ]
     },
     "execution_count": 116,
     "metadata": {},
     "output_type": "execute_result"
    }
   ],
   "source": [
    "df = pd.read_csv(DATA_DIR + 'fanout_data.csv')\n",
    "df.shape"
   ]
  },
  {
   "cell_type": "code",
   "execution_count": null,
   "metadata": {},
   "outputs": [],
   "source": []
  }
 ],
 "metadata": {
  "kernelspec": {
   "display_name": "pytorch_2_5",
   "language": "python",
   "name": "pytorch_2_5"
  },
  "language_info": {
   "codemirror_mode": {
    "name": "ipython",
    "version": 3
   },
   "file_extension": ".py",
   "mimetype": "text/x-python",
   "name": "python",
   "nbconvert_exporter": "python",
   "pygments_lexer": "ipython3",
   "version": "3.12.4"
  }
 },
 "nbformat": 4,
 "nbformat_minor": 2
}
